{
  "nbformat": 4,
  "nbformat_minor": 0,
  "metadata": {
    "colab": {
      "name": "Linear Regression",
      "provenance": [],
      "collapsed_sections": [],
      "authorship_tag": "ABX9TyPxidgIBO1ZvFozF3Gjn/S6",
      "include_colab_link": true
    },
    "kernelspec": {
      "name": "python3",
      "display_name": "Python 3"
    },
    "language_info": {
      "name": "python"
    }
  },
  "cells": [
    {
      "cell_type": "markdown",
      "metadata": {
        "id": "view-in-github",
        "colab_type": "text"
      },
      "source": [
        "<a href=\"https://colab.research.google.com/github/shv-om/predictive-analytics-models/blob/main/Linear_Regression.ipynb\" target=\"_parent\"><img src=\"https://colab.research.google.com/assets/colab-badge.svg\" alt=\"Open In Colab\"/></a>"
      ]
    },
    {
      "cell_type": "markdown",
      "source": [
        "# Linear Regression"
      ],
      "metadata": {
        "id": "FPZK745sRnXO"
      }
    },
    {
      "cell_type": "code",
      "source": [
        "import pandas as pd\n",
        "import numpy as np\n",
        "import matplotlib.pyplot as plt"
      ],
      "metadata": {
        "id": "q1WDTuCKSk9F"
      },
      "execution_count": null,
      "outputs": []
    },
    {
      "cell_type": "code",
      "source": [
        "# Training Data from the sample data in colab notebook\n",
        "Train = pd.read_csv('/content/sample_data/california_housing_train.csv')\n",
        "\n",
        "# Testing Data from the sample data in colab notebook\n",
        "Test = pd.read_csv('/content/sample_data/california_housing_test.csv')\n",
        "\n",
        "Train.head(), Test.head()"
      ],
      "metadata": {
        "colab": {
          "base_uri": "https://localhost:8080/"
        },
        "id": "D3GPqxARSz4I",
        "outputId": "630a52e2-b932-4c34-960a-bb179de23835"
      },
      "execution_count": null,
      "outputs": [
        {
          "output_type": "execute_result",
          "data": {
            "text/plain": [
              "(   longitude  latitude  housing_median_age  total_rooms  total_bedrooms  \\\n",
              " 0    -114.31     34.19                15.0       5612.0          1283.0   \n",
              " 1    -114.47     34.40                19.0       7650.0          1901.0   \n",
              " 2    -114.56     33.69                17.0        720.0           174.0   \n",
              " 3    -114.57     33.64                14.0       1501.0           337.0   \n",
              " 4    -114.57     33.57                20.0       1454.0           326.0   \n",
              " \n",
              "    population  households  median_income  median_house_value  \n",
              " 0      1015.0       472.0         1.4936             66900.0  \n",
              " 1      1129.0       463.0         1.8200             80100.0  \n",
              " 2       333.0       117.0         1.6509             85700.0  \n",
              " 3       515.0       226.0         3.1917             73400.0  \n",
              " 4       624.0       262.0         1.9250             65500.0  ,\n",
              "    longitude  latitude  housing_median_age  total_rooms  total_bedrooms  \\\n",
              " 0    -122.05     37.37                27.0       3885.0           661.0   \n",
              " 1    -118.30     34.26                43.0       1510.0           310.0   \n",
              " 2    -117.81     33.78                27.0       3589.0           507.0   \n",
              " 3    -118.36     33.82                28.0         67.0            15.0   \n",
              " 4    -119.67     36.33                19.0       1241.0           244.0   \n",
              " \n",
              "    population  households  median_income  median_house_value  \n",
              " 0      1537.0       606.0         6.6085            344700.0  \n",
              " 1       809.0       277.0         3.5990            176500.0  \n",
              " 2      1484.0       495.0         5.7934            270500.0  \n",
              " 3        49.0        11.0         6.1359            330000.0  \n",
              " 4       850.0       237.0         2.9375             81700.0  )"
            ]
          },
          "metadata": {},
          "execution_count": 3
        }
      ]
    },
    {
      "cell_type": "code",
      "source": [
        "from sklearn.linear_model import LinearRegression \n",
        "from sklearn.metrics import mean_squared_error"
      ],
      "metadata": {
        "id": "RmnrsvSFUFAv"
      },
      "execution_count": null,
      "outputs": []
    },
    {
      "cell_type": "code",
      "source": [
        "X_train = Train.iloc[:, -2]\n",
        "y_train = Train.iloc[:, -1]"
      ],
      "metadata": {
        "id": "uluOllQpUk1C"
      },
      "execution_count": null,
      "outputs": []
    },
    {
      "cell_type": "code",
      "source": [
        "X_train.head()"
      ],
      "metadata": {
        "colab": {
          "base_uri": "https://localhost:8080/"
        },
        "id": "BPTPsqJxWfQQ",
        "outputId": "9d34d5e1-986b-4f24-b647-d0980e14c22f"
      },
      "execution_count": null,
      "outputs": [
        {
          "output_type": "execute_result",
          "data": {
            "text/plain": [
              "0    1.4936\n",
              "1    1.8200\n",
              "2    1.6509\n",
              "3    3.1917\n",
              "4    1.9250\n",
              "Name: median_income, dtype: float64"
            ]
          },
          "metadata": {},
          "execution_count": 6
        }
      ]
    },
    {
      "cell_type": "code",
      "source": [
        "y_train.head()"
      ],
      "metadata": {
        "colab": {
          "base_uri": "https://localhost:8080/"
        },
        "id": "PB4XXX7iWj37",
        "outputId": "ad3671f8-d229-4b27-b585-022e0eae4d2c"
      },
      "execution_count": null,
      "outputs": [
        {
          "output_type": "execute_result",
          "data": {
            "text/plain": [
              "0    66900.0\n",
              "1    80100.0\n",
              "2    85700.0\n",
              "3    73400.0\n",
              "4    65500.0\n",
              "Name: median_house_value, dtype: float64"
            ]
          },
          "metadata": {},
          "execution_count": 7
        }
      ]
    },
    {
      "cell_type": "code",
      "source": [
        "X_test = Test.iloc[:, -2]\n",
        "y_test = Test.iloc[:, -1]"
      ],
      "metadata": {
        "id": "Q6uEZFnXVUG4"
      },
      "execution_count": null,
      "outputs": []
    },
    {
      "cell_type": "code",
      "source": [
        "X_test.head()"
      ],
      "metadata": {
        "colab": {
          "base_uri": "https://localhost:8080/"
        },
        "id": "BA7PVincWZnf",
        "outputId": "3db84d69-3c9b-4b8c-9c59-6b4f278b2761"
      },
      "execution_count": null,
      "outputs": [
        {
          "output_type": "execute_result",
          "data": {
            "text/plain": [
              "0    6.6085\n",
              "1    3.5990\n",
              "2    5.7934\n",
              "3    6.1359\n",
              "4    2.9375\n",
              "Name: median_income, dtype: float64"
            ]
          },
          "metadata": {},
          "execution_count": 9
        }
      ]
    },
    {
      "cell_type": "code",
      "source": [
        "y_test.head()"
      ],
      "metadata": {
        "colab": {
          "base_uri": "https://localhost:8080/"
        },
        "id": "Rs2W_ra6WacC",
        "outputId": "7e0f8b13-ca5d-4789-bf54-c9533917d617"
      },
      "execution_count": null,
      "outputs": [
        {
          "output_type": "execute_result",
          "data": {
            "text/plain": [
              "0    344700.0\n",
              "1    176500.0\n",
              "2    270500.0\n",
              "3    330000.0\n",
              "4     81700.0\n",
              "Name: median_house_value, dtype: float64"
            ]
          },
          "metadata": {},
          "execution_count": 10
        }
      ]
    },
    {
      "cell_type": "code",
      "source": [
        "# Creating Linear Regression Object\n",
        "reg = LinearRegression()\n",
        "\n",
        "# Fitting the dataset in the model algorithm\n",
        "#reg.fit(X_train, y_train)\n",
        "reg.fit(np.array(X_train).reshape(-1, 1), y_train)"
      ],
      "metadata": {
        "colab": {
          "base_uri": "https://localhost:8080/"
        },
        "id": "95UIh7ZcXXjp",
        "outputId": "7f356217-d1fd-41c3-aa51-007d343e9cc5"
      },
      "execution_count": null,
      "outputs": [
        {
          "output_type": "execute_result",
          "data": {
            "text/plain": [
              "LinearRegression()"
            ]
          },
          "metadata": {},
          "execution_count": 11
        }
      ]
    },
    {
      "cell_type": "code",
      "source": [
        "pred = reg.predict(np.array(X_test).reshape(-1, 1))"
      ],
      "metadata": {
        "id": "UkISKsXbYJF_"
      },
      "execution_count": null,
      "outputs": []
    },
    {
      "cell_type": "code",
      "source": [
        "plt.scatter(X_train, y_train)\n",
        "plt.plot(X_test, pred, color='r')"
      ],
      "metadata": {
        "colab": {
          "base_uri": "https://localhost:8080/",
          "height": 284
        },
        "id": "p6ptKRB7jMWs",
        "outputId": "619117e1-9af1-4a81-8e04-78723024ac16"
      },
      "execution_count": null,
      "outputs": [
        {
          "output_type": "execute_result",
          "data": {
            "text/plain": [
              "[<matplotlib.lines.Line2D at 0x7fc942fc8690>]"
            ]
          },
          "metadata": {},
          "execution_count": 23
        },
        {
          "output_type": "display_data",
          "data": {
            "text/plain": [
              "<Figure size 432x288 with 1 Axes>"
            ],
            "image/png": "[encoded data removed]"
          },
          "metadata": {
            "needs_background": "light"
          }
        }
      ]
    },
    {
      "cell_type": "code",
      "source": [
        "pd.Series(pred), y_test"
      ],
      "metadata": {
        "colab": {
          "base_uri": "https://localhost:8080/"
        },
        "id": "BC3m7MXhYRUy",
        "outputId": "5262e74d-8cf4-4fce-af47-c86c638db577"
      },
      "execution_count": null,
      "outputs": [
        {
          "output_type": "execute_result",
          "data": {
            "text/plain": [
              "(0       321894.981961\n",
              " 1       195333.243628\n",
              " 2       287616.705532\n",
              " 3       302020.226176\n",
              " 4       167514.473099\n",
              "             ...      \n",
              " 2995     93562.382433\n",
              " 2996    186569.174424\n",
              " 2997    140263.432580\n",
              " 2998    181531.096254\n",
              " 2999    403997.152338\n",
              " Length: 3000, dtype: float64, 0       344700.0\n",
              " 1       176500.0\n",
              " 2       270500.0\n",
              " 3       330000.0\n",
              " 4        81700.0\n",
              "           ...   \n",
              " 2995    225000.0\n",
              " 2996    237200.0\n",
              " 2997     62000.0\n",
              " 2998    162500.0\n",
              " 2999    500001.0\n",
              " Name: median_house_value, Length: 3000, dtype: float64)"
            ]
          },
          "metadata": {},
          "execution_count": 22
        }
      ]
    },
    {
      "cell_type": "code",
      "source": [
        "# Root mean squared error\n",
        "mean_squared_error(y_test, pred) ** 0.5"
      ],
      "metadata": {
        "colab": {
          "base_uri": "https://localhost:8080/"
        },
        "id": "H883_HiUYSfB",
        "outputId": "b192dead-8f0f-49a7-e82d-cac3dd7580c4"
      },
      "execution_count": null,
      "outputs": [
        {
          "output_type": "execute_result",
          "data": {
            "text/plain": [
              "83725.36045114168"
            ]
          },
          "metadata": {},
          "execution_count": 24
        }
      ]
    }
  ]
}