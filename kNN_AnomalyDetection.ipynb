{
  "nbformat": 4,
  "nbformat_minor": 0,
  "metadata": {
    "colab": {
      "name": "kNN_AnomalyDetection.ipynb",
      "provenance": [],
      "include_colab_link": true
    },
    "kernelspec": {
      "name": "python3",
      "display_name": "Python 3"
    },
    "language_info": {
      "name": "python"
    }
  },
  "cells": [
    {
      "cell_type": "markdown",
      "metadata": {
        "id": "view-in-github",
        "colab_type": "text"
      },
      "source": [
        "<a href=\"https://colab.research.google.com/github/shv-om/predictive-analytics-models/blob/main/kNN_AnomalyDetection.ipynb\" target=\"_parent\"><img src=\"https://colab.research.google.com/assets/colab-badge.svg\" alt=\"Open In Colab\"/></a>"
      ]
    },
    {
      "cell_type": "markdown",
      "source": [
        ""
      ],
      "metadata": {
        "id": "c23UEicprvQM"
      }
    },
    {
      "cell_type": "markdown",
      "source": [
        "# **kNN Algorithm for Anomaly Detection**"
      ],
      "metadata": {
        "id": "C5pek_OEsN9c"
      }
    },
    {
      "cell_type": "markdown",
      "source": [
        "# **STEP 1: Import Libraries**"
      ],
      "metadata": {
        "id": "CvLwgVy2O8ij"
      }
    },
    {
      "cell_type": "code",
      "execution_count": null,
      "metadata": {
        "id": "mOZ1t_QbOSaF"
      },
      "outputs": [],
      "source": [
        "\n",
        "import pandas as pd\n",
        "import numpy as np\n",
        "import matplotlib.pyplot as plt\n",
        "from sklearn.neighbors import NearestNeighbors"
      ]
    },
    {
      "cell_type": "markdown",
      "source": [
        "# **STEP 2: Data Preparation**"
      ],
      "metadata": {
        "id": "g5rdy_1DPGSk"
      }
    },
    {
      "cell_type": "code",
      "source": [
        "# import data\n",
        "data = pd.read_csv(\"https://raw.githubusercontent.com/uiuc-cse/data-fa14/gh-pages/data/iris.csv\")\n",
        "\n",
        "# input data\n",
        "df = data[[\"sepal_length\", \"sepal_width\"]]\n",
        "\n",
        "# scatterplot of inputs data\n",
        "plt.scatter(df[\"sepal_length\"], df[\"sepal_width\"])\n",
        "\n",
        "# create arrays\n",
        "X = df.values"
      ],
      "metadata": {
        "id": "b8fWekm3OvXK"
      },
      "execution_count": null,
      "outputs": []
    },
    {
      "cell_type": "markdown",
      "source": [
        "# **STEP 3: Modeling**"
      ],
      "metadata": {
        "id": "K0HJPHR3Sn7L"
      }
    },
    {
      "cell_type": "code",
      "source": [
        "# instantiate model\n",
        "nbrs = NearestNeighbors(n_neighbors = 3)\n",
        "# fit model\n",
        "nbrs.fit(X)"
      ],
      "metadata": {
        "colab": {
          "base_uri": "https://localhost:8080/"
        },
        "id": "CqjEWqDKSt83",
        "outputId": "e6a35b65-421d-4f7a-d043-66b6d3744026"
      },
      "execution_count": null,
      "outputs": [
        {
          "output_type": "execute_result",
          "data": {
            "text/plain": [
              "NearestNeighbors(n_neighbors=3)"
            ]
          },
          "metadata": {},
          "execution_count": 6
        }
      ]
    },
    {
      "cell_type": "markdown",
      "source": [
        "# **STEP 4: Anomaly Detection**"
      ],
      "metadata": {
        "id": "P5udnCQ3S6QM"
      }
    },
    {
      "cell_type": "code",
      "source": [
        "# distances and indexes of k-neaighbors from model outputs\n",
        "distances, indexes = nbrs.kneighbors(X)\n",
        "# plot mean of k-distances of each observation\n",
        "plt.plot(distances.mean(axis =1))"
      ],
      "metadata": {
        "id": "dAqdAdiwTBlk"
      },
      "execution_count": null,
      "outputs": []
    },
    {
      "cell_type": "code",
      "source": [
        "# visually determine cutoff values > 0.15\n",
        "outlier_index = np.where(distances.mean(axis = 1) > 0.15)\n",
        "outlier_index"
      ],
      "metadata": {
        "colab": {
          "base_uri": "https://localhost:8080/"
        },
        "id": "JeDxrnrlTW_Y",
        "outputId": "9ebd8555-d107-4abd-ce89-84cf6df20de8"
      },
      "execution_count": null,
      "outputs": [
        {
          "output_type": "execute_result",
          "data": {
            "text/plain": [
              "(array([ 14,  15,  18,  22,  32,  33,  41,  59,  60, 108, 109, 117, 118,\n",
              "        131]),)"
            ]
          },
          "metadata": {},
          "execution_count": 8
        }
      ]
    },
    {
      "cell_type": "code",
      "source": [
        "# filter outlier values\n",
        "outlier_values = df.iloc[outlier_index]\n",
        "outlier_values"
      ],
      "metadata": {
        "id": "qv7VVRjwTdu8"
      },
      "execution_count": null,
      "outputs": []
    },
    {
      "cell_type": "markdown",
      "source": [
        "# **STEP 5: Plotting Anomalies**"
      ],
      "metadata": {
        "id": "29K1r0e0TsWk"
      }
    },
    {
      "cell_type": "code",
      "source": [
        "# plot data\n",
        "plt.scatter(df[\"sepal_length\"], df[\"sepal_width\"], color = \"b\", s = 65)\n",
        "# plot outlier values\n",
        "plt.scatter(outlier_values[\"sepal_length\"], outlier_values[\"sepal_width\"], color = \"r\")"
      ],
      "metadata": {
        "id": "889cym2sT1m4"
      },
      "execution_count": null,
      "outputs": []
    }
  ]
}